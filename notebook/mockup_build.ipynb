{
 "cells": [
  {
   "cell_type": "code",
   "execution_count": 1,
   "metadata": {},
   "outputs": [
    {
     "name": "stderr",
     "output_type": "stream",
     "text": [
      "<Logger ism3d (DEBUG)>\n",
      "[<StreamHandler stderr (INFO)>]\n",
      "\n",
      "################################################################################\n",
      "Python version:   3.8.3 (default, May 16 2020, 10:05:49) \n",
      "[Clang 11.0.0 (clang-1100.0.33.17)]\n",
      "Host Name:        Ruis-Mac-mini.local\n",
      "Num of Core:      12\n",
      "Total Memory:     32.0 GB\n",
      "Available Memory: 10.84 GB\n",
      "################################################################################\n",
      "astropy            >=4.0        4.0         \n",
      "emcee              >=3.0.0      3.0.3.dev4+gc14b212\n",
      "corner             >=2.0        2.0.1       \n",
      "tqdm               unspecified  4.43.0      \n",
      "lmfit              unspecified  1.0.0       \n",
      "asteval            >=0.9.14     0.9.18      \n",
      "numexpr            >=2.6.9      2.7.1       \n",
      "hickle             unspecified  4.0.0       \n",
      "pyfftw             unspecified  0.12.0      \n",
      "alpy               unspecified  1.0.0       \n",
      "regions            unspecified  0.5.dev1001 \n",
      "scipy              unspecified  1.5.0       \n",
      "reproject          unspecified  0.7         \n",
      "scikit-image       unspecified  0.16.2      \n",
      "galpy              >=1.5        1.5         \n",
      "mkl-fft            unspecified  1.1.0       \n",
      "pvextractor        >=0.2.dev66  0.2         \n",
      "spectral-cube      >=0.4.5.dev  0.4.6.dev166+g4c23f5b\n",
      "radio-beam         >=0.3        0.3.3.dev400\n",
      "reproject          >=0.6.dev    0.7         \n",
      "fast-histogram     >=0.7        0.8         \n",
      "################################################################################\n",
      "fft_use:          mkl_fft._numpy_fft\n",
      "fft_fastlen:      scipy.fft._helper.next_fast_len\n",
      "################################################################################\n",
      "\n"
     ]
    },
    {
     "name": "stdout",
     "output_type": "stream",
     "text": [
      "\n",
      "0.3.dev1\n",
      "rx.astro@gmail.com\n",
      "\n",
      "working dir: /Users/Rui/Resilio/Workspace/projects/ism3d/models/notebook\n",
      "\n"
     ]
    }
   ],
   "source": [
    "sys.path.append('../scripts/')\n",
    "# %load ../scripts/notebook_setup.py\n",
    "from notebook_setup import *\n",
    "%matplotlib inline"
   ]
  },
  {
   "cell_type": "markdown",
   "metadata": {},
   "source": [
    "+ mockup1:  based on the VLA GN20 observation 1-channel\n",
    "+ mockup2:  based on the ALMA G09 observation 1-channel\n",
    "+ mockup3:  based on the ALMA G09 observation 240-channel"
   ]
  },
  {
   "cell_type": "raw",
   "metadata": {},
   "source": [
    "outdir='../output/mockup/'\n",
    "\n",
    "os.system('rm -rf '+outdir+'mockup1_basis.ms')\n",
    "mstransform(vis='../data/gn20/vla/AC974.100409.ms',outputvis=outdir+'mockup1_basis.ms',\n",
    "            spw='0:60',datacolumn='data')\n",
    "\n",
    "os.system('rm -rf '+outdir+'mockup2_basis.ms')\n",
    "mstransform(vis='../data/g09/alma/bb4.ms',outputvis=outdir+'mockup2_basis.ms',\n",
    "            spw='*:60',datacolumn='data')\n",
    "rmPointing(outdir+'mockup2_basis.ms',verbose=False)\n",
    "\n",
    "os.system('rm -rf '+outdir+'mockup3_basis.ms')\n",
    "os.system('ln -s ../../data/g09/alma/bb4.ms '+outdir+'mockup3_basis.ms')"
   ]
  },
  {
   "cell_type": "markdown",
   "metadata": {},
   "source": [
    "READ DATA"
   ]
  },
  {
   "cell_type": "code",
   "execution_count": null,
   "metadata": {},
   "outputs": [
    {
     "name": "stderr",
     "output_type": "stream",
     "text": [
      "\n",
      "READing: ../output/mockup/mockup3_basis.ms\n",
      "\n",
      "------------------------------------------------------------------------------------------\n",
      "data            complex64       (1154327, 240)         2 GiB             \n",
      "uvw             float32         (1154327, 3)          13 MiB             \n",
      "weight          float32         (1154327,)             4 MiB             \n",
      "                ptile:          0%                   25.065651           \n",
      "                ptile:          16%                  38.313652           \n",
      "                ptile:          50%                  44.756321           \n",
      "                ptile:          84%                  51.203125           \n",
      "                ptile:          100%                 69.013229           \n",
      "flag            bool            (1154327, 240)       264 MiB             \n",
      "chanfreq        (240,)        93.0698 GHz    94.9369 GHz\n",
      "chanwidth       (240,)        -7.8121 MHz    -7.8121 MHz\n",
      "chanchi2        (240,)      2107.2754 3549150.0000\n",
      "ndata            275884819\n",
      "sumwt           12350732288.0\n",
      "sumlogwt        1045782656.0\n",
      "telescope       ALMA      \n",
      "phasecenter     09h13m38.894s -01d07m03.62s\n",
      "------------------------------------------------------------------------------------------\n",
      "flagging fraction: 0%\n",
      "------------------------------------------------------------------------------------------\n"
     ]
    }
   ],
   "source": [
    "model_name='mockup3'\n",
    "outdir='../output/mockup/'\n",
    "\n",
    "# option 1\n",
    "#uvdata={}\n",
    "#read_ms(vis=outdir+model_name+'_basis.ms',dataset=uvdata,keyrule='basename')\n",
    "\n",
    "# option 2\n",
    "uvdata=read_ms(vis=outdir+model_name+'_basis.ms')\n",
    "\n",
    "# save to / reterive from .h5\n",
    "to_hdf5(uvdata,outname=outdir+model_name+'_basis.h5',checkname=False,compression='gzip')\n",
    "uvdata=from_hdf5(outdir+model_name+'_basis.h5')"
   ]
  },
  {
   "cell_type": "markdown",
   "metadata": {},
   "source": [
    "# Invert \n",
    "\n",
    "We perform imaging operations on the same visibility dataset using three different approachs and compare their precisions:\n",
    "\n",
    "+ ism3d.uvhelper.inver\n",
    "+ casatasks.tclean\n",
    "+ galario"
   ]
  },
  {
   "cell_type": "code",
   "execution_count": 3,
   "metadata": {},
   "outputs": [
    {
     "name": "stdout",
     "output_type": "stream",
     "text": [
      "420 0.3278515550731468 arcsec\n"
     ]
    },
    {
     "name": "stderr",
     "output_type": "stream",
     "text": [
      "2020-07-01 16:46:39\tWARN\tSynthesisParamsImage::buildCoordinateSystem (file casa-source/code/synthesis/ImagerObjects/SynthesisUtilMethods.cc, line 2124)\tNo rest frequency info, using the center of the selected spw(s):4.5656e+10 Hz. Velocity labelling may not be correct.\n",
      "2020-07-01 16:46:40\tWARN\ttask_tclean::SIImageStore::restore (file casa-source/code/synthesis/ImagerObjects/SIImageStore.cc, line 2089)\tRestoring with an empty model image. Only residuals will be processed to form the output restored image.\n"
     ]
    },
    {
     "name": "stdout",
     "output_type": "stream",
     "text": [
      "(77108,) (77108,) (77108,) (77108,)\n",
      "(77108,) (77108,) (77108,) (77108,)\n"
     ]
    }
   ],
   "source": [
    "header=advise_header(uvdata['uvw'],\n",
    "                    uvdata['phasecenter'],\n",
    "                    uvdata['chanfreq'],\n",
    "                    uvdata['chanwidth'],\n",
    "                    antsize=12*u.m)\n",
    "\n",
    "uu=uvdata['uvw'][:,0]\n",
    "vv=uvdata['uvw'][:,1]\n",
    "wv=uvdata['chanfreq'].to(u.m,equivalencies=u.spectral()).value\n",
    "vis=uvdata['data']\n",
    "wt=uvdata['weight']\n",
    "flag=uvdata['flag']\n",
    "\n",
    "cell=header['CDELT2']<<u.deg\n",
    "imsize=header['NAXIS1']\n",
    "\n",
    "print(imsize,cell.to(u.arcsec))\n",
    "\n",
    "invert(vis=outdir+model_name+'_basis.ms',\n",
    "       imagename=outdir+model_name+'_basis.images/casa',\n",
    "       weighting='natural',\n",
    "       cell=cell.to_value(u.arcsec),imsize=[imsize,imsize],onlydm=False)\n",
    "\n",
    "cube=invert_ft(uu,vv,wv,vis,cell,imsize,wt=wt,flag=flag)\n",
    "psf=make_psf(uu,vv,wv,cell,imsize,wt=wt,flag=flag)\n",
    "\n",
    "fits.writeto(outdir+model_name+'_basis.images/nufft.image.fits',cube.T,header,overwrite=True)\n",
    "fits.writeto(outdir+model_name+'_basis.images/nufft.psf.fits',psf.T,header,overwrite=True)\n",
    "\n",
    "for version in ['image','psf']:\n",
    "    tcube,thdr=fits.getdata(outdir+model_name+'_basis.images/casa.'+version+'.fits',header=True)\n",
    "    cube,hdr=fits.getdata(outdir+model_name+'_basis.images/nufft.'+version+'.fits',header=True)\n",
    "    cube_diff=np.squeeze(cube)-np.squeeze(tcube)\n",
    "    fits.writeto(outdir+model_name+'_basis.images/diff.'+version+'.fits',cube_diff,thdr,overwrite=True)\n"
   ]
  },
  {
   "cell_type": "code",
   "execution_count": null,
   "metadata": {},
   "outputs": [],
   "source": []
  }
 ],
 "metadata": {
  "kernelspec": {
   "display_name": "Python 3",
   "language": "python",
   "name": "python3"
  },
  "language_info": {
   "codemirror_mode": {
    "name": "ipython",
    "version": 3
   },
   "file_extension": ".py",
   "mimetype": "text/x-python",
   "name": "python",
   "nbconvert_exporter": "python",
   "pygments_lexer": "ipython3",
   "version": "3.8.3"
  }
 },
 "nbformat": 4,
 "nbformat_minor": 4
}
